{
 "cells": [
  {
   "cell_type": "code",
   "execution_count": 1,
   "metadata": {},
   "outputs": [],
   "source": [
    "import pandas as pd"
   ]
  },
  {
   "cell_type": "code",
   "execution_count": 2,
   "metadata": {},
   "outputs": [],
   "source": [
    "data = pd.read_csv(\"/Users/yangdongjae/Desktop/2020/대외활동/암센터 빅데이터 플랫폼 경진대회/Cancer_project/data/2. 폐암 Fake Data/LUNG_DEAD_NFRM.csv\")"
   ]
  },
  {
   "cell_type": "code",
   "execution_count": 4,
   "metadata": {},
   "outputs": [
    {
     "name": "stdout",
     "output_type": "stream",
     "text": [
      "<class 'pandas.core.frame.DataFrame'>\n",
      "RangeIndex: 12672 entries, 0 to 12671\n",
      "Data columns (total 6 columns):\n",
      " #   Column          Non-Null Count  Dtype  \n",
      "---  ------          --------------  -----  \n",
      " 0   CENTER_CD       12672 non-null  int64  \n",
      " 1   IRB_APRV_NO     12672 non-null  object \n",
      " 2   PT_SBST_NO      12672 non-null  object \n",
      " 3   DEATH_YMD       12672 non-null  int64  \n",
      " 4   MAIN_DCUS_CONT  0 non-null      float64\n",
      " 5   CRTN_DT         12672 non-null  object \n",
      "dtypes: float64(1), int64(2), object(3)\n",
      "memory usage: 594.1+ KB\n"
     ]
    }
   ],
   "source": [
    "data.info()"
   ]
  },
  {
   "cell_type": "code",
   "execution_count": null,
   "metadata": {},
   "outputs": [],
   "source": []
  }
 ],
 "metadata": {
  "kernelspec": {
   "display_name": "Python 3",
   "language": "python",
   "name": "python3"
  },
  "language_info": {
   "codemirror_mode": {
    "name": "ipython",
    "version": 3
   },
   "file_extension": ".py",
   "mimetype": "text/x-python",
   "name": "python",
   "nbconvert_exporter": "python",
   "pygments_lexer": "ipython3",
   "version": "3.7.6"
  }
 },
 "nbformat": 4,
 "nbformat_minor": 4
}
