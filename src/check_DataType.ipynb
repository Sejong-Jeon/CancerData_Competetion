{
 "cells": [
  {
   "cell_type": "code",
   "execution_count": 2,
   "metadata": {},
   "outputs": [],
   "source": [
    "import pandas as pd"
   ]
  },
  {
   "cell_type": "code",
   "execution_count": 6,
   "metadata": {},
   "outputs": [],
   "source": [
    "data = pd.read_csv(\"/Users/yangdongjae/Desktop/2020/대외활동/암센터 빅데이터 플랫폼 경진대회/Cancer_project/data/2. 폐암 Fake Data/LUNG_DG_THNF.csv\" , encoding = \"cp949\")"
   ]
  },
  {
   "cell_type": "code",
   "execution_count": 7,
   "metadata": {},
   "outputs": [
    {
     "name": "stdout",
     "output_type": "stream",
     "text": [
      "<class 'pandas.core.frame.DataFrame'>\n",
      "RangeIndex: 12800 entries, 0 to 12799\n",
      "Data columns (total 13 columns):\n",
      " #   Column            Non-Null Count  Dtype  \n",
      "---  ------            --------------  -----  \n",
      " 0   CENTER_CD         12800 non-null  int64  \n",
      " 1   IRB_APRV_NO       12800 non-null  object \n",
      " 2   PT_SBST_NO        12800 non-null  object \n",
      " 3   ANTH_RCRD_YMD     12800 non-null  int64  \n",
      " 4   ANTH_SEQ          12800 non-null  int64  \n",
      " 5   HT_MSRM_YMD       12800 non-null  int64  \n",
      " 6   HT_MSRM_VL        12800 non-null  float64\n",
      " 7   WT_MSRM_YMD       12800 non-null  int64  \n",
      " 8   WT_MSRM_VL        12800 non-null  float64\n",
      " 9   BMI_VL            12800 non-null  float64\n",
      " 10  ECOG_CD           12800 non-null  int64  \n",
      " 11  ECOG_CD_ETC_CONT  12800 non-null  object \n",
      " 12  CRTN_DT           12800 non-null  object \n",
      "dtypes: float64(3), int64(6), object(4)\n",
      "memory usage: 1.3+ MB\n"
     ]
    }
   ],
   "source": [
    "data.info()"
   ]
  },
  {
   "cell_type": "code",
   "execution_count": null,
   "metadata": {},
   "outputs": [],
   "source": []
  }
 ],
 "metadata": {
  "kernelspec": {
   "display_name": "Python 3",
   "language": "python",
   "name": "python3"
  },
  "language_info": {
   "codemirror_mode": {
    "name": "ipython",
    "version": 3
   },
   "file_extension": ".py",
   "mimetype": "text/x-python",
   "name": "python",
   "nbconvert_exporter": "python",
   "pygments_lexer": "ipython3",
   "version": "3.7.6"
  }
 },
 "nbformat": 4,
 "nbformat_minor": 4
}
